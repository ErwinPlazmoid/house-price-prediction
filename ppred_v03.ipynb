{
 "cells": [
  {
   "cell_type": "code",
   "execution_count": 22,
   "id": "d5177901-9afe-45a6-986a-cef605d25f83",
   "metadata": {},
   "outputs": [
    {
     "name": "stdout",
     "output_type": "stream",
     "text": [
      "LotFrontage    212\n",
      "MasVnrArea       6\n",
      "GarageYrBlt     58\n",
      "dtype: int64\n",
      "MAE imputed:\n",
      "17791.59899543379\n"
     ]
    }
   ],
   "source": [
    "import pandas as pd\n",
    "from sklearn.model_selection import train_test_split\n",
    "from sklearn.impute import SimpleImputer\n",
    "from sklearn.ensemble import RandomForestRegressor\n",
    "from sklearn.metrics import mean_absolute_error\n",
    "#read the data\n",
    "X_full = pd.read_csv(\"train.csv\", index_col=\"Id\")\n",
    "X_test_full = pd.read_csv(\"test.csv\", index_col=\"Id\")\n",
    "\n",
    "#remove rows with missing target, separate target from predictors\n",
    "X_full.dropna(axis=0, subset=[\"SalePrice\"], inplace=True)\n",
    "y = X_full.SalePrice\n",
    "X_full.drop([\"SalePrice\"], axis=1, inplace=True)\n",
    "\n",
    "# To keep things simple, we'll use only numerical predictors\n",
    "X = X_full.select_dtypes(exclude=['object'])\n",
    "X_test = X_test_full.select_dtypes(exclude=['object'])\n",
    "\n",
    "# Break off validation set from training data\n",
    "X_train, X_valid, y_train, y_valid = train_test_split(X, y, train_size=0.8, test_size=0.2,\n",
    "                                                      random_state=0) \n",
    "\n",
    "# Number of missing values in each column of training data\n",
    "missing_val_count_by_column = (X_train.isnull().sum())\n",
    "print(missing_val_count_by_column[missing_val_count_by_column > 0])\n",
    "\n",
    "\n",
    "# Function for comparing different approaches\n",
    "def score_dataset(X_train, X_valid, y_train, y_valid):\n",
    "    model = RandomForestRegressor(n_estimators=100, random_state=0)\n",
    "    model.fit(X_train, y_train)\n",
    "    preds = model.predict(X_valid)\n",
    "    return mean_absolute_error(y_valid, preds)\n",
    "\n",
    "#imputation\n",
    "imputer = SimpleImputer(strategy=\"median\")\n",
    "imputed_X_train = pd.DataFrame(imputer.fit_transform(X_train))       #el problema\n",
    "imputed_X_valid = pd.DataFrame(imputer.transform(X_valid))\n",
    "\n",
    "imputed_X_train.columns = X_train.columns\n",
    "imputed_X_valid.columns = X_valid.columns\n",
    "\n",
    "#define and fit model\n",
    "model = RandomForestRegressor(n_estimators=100, random_state=0)\n",
    "model.fit(imputed_X_train, y_train)\n",
    "\n",
    "#validation predictions and MAE\n",
    "preds_valid = model.predict(imputed_X_valid)\n",
    "print(\"MAE imputed:\")\n",
    "print(mean_absolute_error(y_valid, preds_valid))\n",
    "\n",
    "#preprocces test data\n",
    "final_X_test = pd.DataFrame(imputer.transform(X_test))\n",
    "#imputed_X_test\n",
    "preds_test = model.predict(final_X_test)\n",
    "\n",
    "#save\n",
    "output = pd.DataFrame({'Id': X_test.index,\n",
    "                       'SalePrice': preds_test})\n",
    "output.to_csv('submission.csv', index=False)"
   ]
  },
  {
   "cell_type": "code",
   "execution_count": null,
   "id": "bda6ff81-5f77-4db7-9552-d1f4f99c00b0",
   "metadata": {},
   "outputs": [],
   "source": []
  }
 ],
 "metadata": {
  "kernelspec": {
   "display_name": "Python 3.8.8 64-bit ('base': conda)",
   "language": "python",
   "name": "python388jvsc74a57bd0ac4629ceac5e93efb9965690f96198b41239980aadf79fb54140fb59f20e3825"
  },
  "language_info": {
   "codemirror_mode": {
    "name": "ipython",
    "version": 3
   },
   "file_extension": ".py",
   "mimetype": "text/x-python",
   "name": "python",
   "nbconvert_exporter": "python",
   "pygments_lexer": "ipython3",
   "version": "3.8.8"
  }
 },
 "nbformat": 4,
 "nbformat_minor": 5
}
