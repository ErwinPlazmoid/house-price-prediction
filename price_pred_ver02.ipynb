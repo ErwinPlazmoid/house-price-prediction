{
 "cells": [
  {
   "cell_type": "code",
   "execution_count": null,
   "id": "3e192ad1-8429-41d8-b548-bdc490ed455f",
   "metadata": {},
   "outputs": [],
   "source": [
    "import pandas as pd\n",
    "from sklearn.model_selection import train_test_split\n",
    "from sklearn.impute import SimpleImputer\n",
    "#read the data\n",
    "X_full = pd.read_csv(\"train.csv\", index_col=\"Id\")\n",
    "X_test_full = pd.read_csv(\"test.csv\", index_col=\"Id\")\n",
    "\n",
    "#remove rows with missing target, separate target from predictors\n",
    "X_full.dropna(axis=0, subset=[\"SalePrice\"], inplace=True)\n",
    "y = X_full.SalePrice\n",
    "X_full.drop([\"SalePr \n",
    "\n",
    "#imputation\n",
    "imputer = SimpleImputer(strategy=\"median\")\n",
    "imputed_X_train = pd.DataFrame(imputer.fit_transform(X_train))\n",
    "imputed_X_valid = pd.DataFrame(imputer.transform(X_valid))\n",
    "\n",
    "imputed_X_train.columns = X_train.columns\n",
    "imputed_X_valid.columns + X_valid.columns\n",
    "\n",
    "#define and fit model\n",
    "model = RandomForestRegressor(n_estimators=100, random_state=0)\n",
    "model.fit(imputed_X_train, y_train)\n",
    "\n",
    "#validation predictions and MAE\n",
    "preds_valid = model.predict(imputed_X_valid)\n",
    "print(\"MAE imputed:\")\n",
    "print(mean_absolute_error(y_valid, preds_valid))\n",
    "\n",
    "#preprocces test data\n",
    "#imputed_X_test\n",
    "\n"
   ]
  }
 ],
 "metadata": {
  "kernelspec": {
   "display_name": "Python 3.8.8 64-bit ('base': conda)",
   "language": "python",
   "name": "python388jvsc74a57bd0ac4629ceac5e93efb9965690f96198b41239980aadf79fb54140fb59f20e3825"
  },
  "language_info": {
   "codemirror_mode": {
    "name": "ipython",
    "version": 3
   },
   "file_extension": ".py",
   "mimetype": "text/x-python",
   "name": "python",
   "nbconvert_exporter": "python",
   "pygments_lexer": "ipython3",
   "version": "3.8.8"
  }
 },
 "nbformat": 4,
 "nbformat_minor": 5
}
